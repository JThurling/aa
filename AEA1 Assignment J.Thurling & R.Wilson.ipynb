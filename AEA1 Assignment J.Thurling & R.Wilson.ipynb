{
 "cells": [
  {
   "cell_type": "markdown",
   "metadata": {},
   "source": [
    "# Python Assingment: Legal Prostitution and Sexual Crimes\n",
    "\n",
    "\n",
    "|Name|Examnr.|\n",
    "|----|-------|\n",
    "|Ryan Wilson| 2019046 |\n",
    "|Jonathan Thurling|2019177|"
   ]
  },
  {
   "cell_type": "markdown",
   "metadata": {},
   "source": [
    "## Overview\n",
    "\n",
    "### Research Question\n",
    "\n",
    "***Does legalizing prostitution reduce sexual criminality?***\n"
   ]
  },
  {
   "cell_type": "markdown",
   "metadata": {},
   "source": [
    "### Motivation \n",
    "In 2010, it was reported that one in five women will be raped in the USA during their life time [(CDC 2010)](http://www.cdc.gov/ViolencePrevention/pdf/NISVS_Report2010-a.pdf). While the rates in Europe are lower, the perverse crime of sexual assault is a plague that neither side of the Atlantic has rid itself of. Most governments around the world prohibit prostitution due to moral concerns, disease transmission and/or victimization. \n",
    "\n",
    "The Netherlands has a long liberal tradition of tolerance toward prostitution. There is the well-known re light district but, in addition, the Dutch government also regulates other parts of the sex industry. Prostitution has also been found to have connections to international trafficking organizations and various other forms of crime. Despite the ongoing debate about legalizing prostitution, there exists little empirical evidence about the effects of government regulation. [Bisschop et al](https://www.aeaweb.org/articles?id=10.1257/pol.20150299) analyze empirically how the presence of a tippelzone affects the total amount of various types of crime in Dutch cities. A tippelzone is a designated legal street prostitution zone where soliciting and purchasing sex is tolerated between strict opening and closing hours at night. There results show that legalizing prositution may be a solution to reducing rates of sexual crimes.\n",
    "\n",
    "\n",
    "### Method (<a href='#Method'>Link</a>)\n",
    "\n",
    "To explore the effect of the Tippelzones on sexual crimes, a difference-in-difference methdology is used. This is methodology is available because different cities used Tippelzones at different times. We can compare the sexual crime rates of cities before and after they implemented a Tippelzone to comparable cities that did not introduce a Tippelzone. Click the link for an explanation of the precise methodology\n",
    "\n",
    "### Results (<a href='#Results'>Link</a>)\n",
    "\n",
    "Our results are along the same lines as that of [Bisschop et al](https://www.aeaweb.org/articles?id=10.1257/pol.20150299), which show that opening a tippelzone reduces sexual abuse and rape. These results are mainly driven by a 30–40 percent reduction in the first two years after opening the tippelzone. \n",
    "\n",
    "There are clear effects of legalising prostitution. The differe-in-difference analyses have given us causal evidence that a world in which prosititution is legal is a safer world for women. The causal estimations are formed off reasonable assumptions and governments should look to the results of Bisschop et al as a solution to reducing sexual violence in their respective countries. \n",
    "\n",
    "\n",
    "### Assumptions (<a href='#Assumptions'>Link</a>)\n",
    "\n",
    "We can infer that this is a causal effect through the research design. A diff-in-diff research design rests on the following assumptions:\n",
    "- The Timing of the Policy is exogenous \n",
    "- There were common trends before the treatment\n",
    "- There were not other policies that could bias the relationship\n",
    "\n",
    "The salient assumption is that there was a common time tred before the implementation of the tippelzones. We can deduce that this is true through the graph of the three major cities and with evidence from [Bisschop et al](https://www.aeaweb.org/articles?id=10.1257/pol.20150299). "
   ]
  },
  {
   "cell_type": "markdown",
   "metadata": {},
   "source": [
    "\n",
    "\n",
    "## Importing Libaries and Data"
   ]
  },
  {
   "cell_type": "code",
   "execution_count": 2,
   "metadata": {},
   "outputs": [
    {
     "name": "stdout",
     "output_type": "stream",
     "text": [
      "Data1 is composed of 450 rows and 65 columns in this DataFrame\n"
     ]
    },
    {
     "data": {
      "text/html": [
       "<div>\n",
       "<style scoped>\n",
       "    .dataframe tbody tr th:only-of-type {\n",
       "        vertical-align: middle;\n",
       "    }\n",
       "\n",
       "    .dataframe tbody tr th {\n",
       "        vertical-align: top;\n",
       "    }\n",
       "\n",
       "    .dataframe thead th {\n",
       "        text-align: right;\n",
       "    }\n",
       "</style>\n",
       "<table border=\"1\" class=\"dataframe\">\n",
       "  <thead>\n",
       "    <tr style=\"text-align: right;\">\n",
       "      <th></th>\n",
       "      <th>city</th>\n",
       "      <th>year</th>\n",
       "      <th>opening</th>\n",
       "      <th>closing</th>\n",
       "      <th>city1</th>\n",
       "      <th>logpopdens</th>\n",
       "      <th>openingReg</th>\n",
       "      <th>mayorCDA</th>\n",
       "      <th>mayorCU</th>\n",
       "      <th>mayorD66</th>\n",
       "      <th>...</th>\n",
       "      <th>simtheftpcN</th>\n",
       "      <th>aggtheftpcN</th>\n",
       "      <th>lnsimtheftN</th>\n",
       "      <th>lnaggtheftN</th>\n",
       "      <th>theftpcN</th>\n",
       "      <th>lntheftN</th>\n",
       "      <th>pordoffpcN</th>\n",
       "      <th>pordviolpcN</th>\n",
       "      <th>lnpordoffN</th>\n",
       "      <th>lnpordviolN</th>\n",
       "    </tr>\n",
       "  </thead>\n",
       "  <tbody>\n",
       "    <tr>\n",
       "      <th>0</th>\n",
       "      <td>Amsterdam</td>\n",
       "      <td>1994</td>\n",
       "      <td>0</td>\n",
       "      <td>0</td>\n",
       "      <td>1</td>\n",
       "      <td>8.381145</td>\n",
       "      <td>0</td>\n",
       "      <td>0</td>\n",
       "      <td>0</td>\n",
       "      <td>0</td>\n",
       "      <td>...</td>\n",
       "      <td>59.2463</td>\n",
       "      <td>57.9343</td>\n",
       "      <td>8.364042</td>\n",
       "      <td>8.341649</td>\n",
       "      <td>117.1810</td>\n",
       "      <td>9.046055</td>\n",
       "      <td>7.59568</td>\n",
       "      <td>5.10982</td>\n",
       "      <td>6.309918</td>\n",
       "      <td>5.913503</td>\n",
       "    </tr>\n",
       "    <tr>\n",
       "      <th>1</th>\n",
       "      <td>Amsterdam</td>\n",
       "      <td>1995</td>\n",
       "      <td>0</td>\n",
       "      <td>0</td>\n",
       "      <td>1</td>\n",
       "      <td>8.378620</td>\n",
       "      <td>0</td>\n",
       "      <td>0</td>\n",
       "      <td>0</td>\n",
       "      <td>0</td>\n",
       "      <td>...</td>\n",
       "      <td>50.8148</td>\n",
       "      <td>43.8226</td>\n",
       "      <td>8.207947</td>\n",
       "      <td>8.059908</td>\n",
       "      <td>94.6374</td>\n",
       "      <td>8.829812</td>\n",
       "      <td>7.06146</td>\n",
       "      <td>4.36149</td>\n",
       "      <td>6.234411</td>\n",
       "      <td>5.752573</td>\n",
       "    </tr>\n",
       "    <tr>\n",
       "      <th>2</th>\n",
       "      <td>Amsterdam</td>\n",
       "      <td>1996</td>\n",
       "      <td>1</td>\n",
       "      <td>0</td>\n",
       "      <td>1</td>\n",
       "      <td>8.372861</td>\n",
       "      <td>0</td>\n",
       "      <td>0</td>\n",
       "      <td>0</td>\n",
       "      <td>0</td>\n",
       "      <td>...</td>\n",
       "      <td>42.3328</td>\n",
       "      <td>37.1108</td>\n",
       "      <td>8.019613</td>\n",
       "      <td>7.887959</td>\n",
       "      <td>79.4437</td>\n",
       "      <td>8.649098</td>\n",
       "      <td>7.51965</td>\n",
       "      <td>5.43085</td>\n",
       "      <td>6.291569</td>\n",
       "      <td>5.966147</td>\n",
       "    </tr>\n",
       "    <tr>\n",
       "      <th>3</th>\n",
       "      <td>Amsterdam</td>\n",
       "      <td>1997</td>\n",
       "      <td>1</td>\n",
       "      <td>0</td>\n",
       "      <td>1</td>\n",
       "      <td>8.368693</td>\n",
       "      <td>0</td>\n",
       "      <td>0</td>\n",
       "      <td>0</td>\n",
       "      <td>0</td>\n",
       "      <td>...</td>\n",
       "      <td>46.8435</td>\n",
       "      <td>32.8603</td>\n",
       "      <td>8.116715</td>\n",
       "      <td>7.762171</td>\n",
       "      <td>79.7038</td>\n",
       "      <td>8.648221</td>\n",
       "      <td>6.85173</td>\n",
       "      <td>4.19494</td>\n",
       "      <td>6.194406</td>\n",
       "      <td>5.703783</td>\n",
       "    </tr>\n",
       "    <tr>\n",
       "      <th>4</th>\n",
       "      <td>Amsterdam</td>\n",
       "      <td>1998</td>\n",
       "      <td>1</td>\n",
       "      <td>0</td>\n",
       "      <td>1</td>\n",
       "      <td>8.372861</td>\n",
       "      <td>0</td>\n",
       "      <td>0</td>\n",
       "      <td>0</td>\n",
       "      <td>0</td>\n",
       "      <td>...</td>\n",
       "      <td>45.2551</td>\n",
       "      <td>33.9065</td>\n",
       "      <td>8.086411</td>\n",
       "      <td>7.797702</td>\n",
       "      <td>79.1616</td>\n",
       "      <td>8.645586</td>\n",
       "      <td>6.12685</td>\n",
       "      <td>4.59513</td>\n",
       "      <td>6.086775</td>\n",
       "      <td>5.799093</td>\n",
       "    </tr>\n",
       "  </tbody>\n",
       "</table>\n",
       "<p>5 rows × 65 columns</p>\n",
       "</div>"
      ],
      "text/plain": [
       "        city  year  opening  closing  city1  logpopdens  openingReg  mayorCDA  \\\n",
       "0  Amsterdam  1994        0        0      1    8.381145           0         0   \n",
       "1  Amsterdam  1995        0        0      1    8.378620           0         0   \n",
       "2  Amsterdam  1996        1        0      1    8.372861           0         0   \n",
       "3  Amsterdam  1997        1        0      1    8.368693           0         0   \n",
       "4  Amsterdam  1998        1        0      1    8.372861           0         0   \n",
       "\n",
       "   mayorCU  mayorD66     ...       simtheftpcN  aggtheftpcN  lnsimtheftN  \\\n",
       "0        0         0     ...           59.2463      57.9343     8.364042   \n",
       "1        0         0     ...           50.8148      43.8226     8.207947   \n",
       "2        0         0     ...           42.3328      37.1108     8.019613   \n",
       "3        0         0     ...           46.8435      32.8603     8.116715   \n",
       "4        0         0     ...           45.2551      33.9065     8.086411   \n",
       "\n",
       "   lnaggtheftN  theftpcN  lntheftN  pordoffpcN  pordviolpcN  lnpordoffN  \\\n",
       "0     8.341649  117.1810  9.046055     7.59568      5.10982    6.309918   \n",
       "1     8.059908   94.6374  8.829812     7.06146      4.36149    6.234411   \n",
       "2     7.887959   79.4437  8.649098     7.51965      5.43085    6.291569   \n",
       "3     7.762171   79.7038  8.648221     6.85173      4.19494    6.194406   \n",
       "4     7.797702   79.1616  8.645586     6.12685      4.59513    6.086775   \n",
       "\n",
       "   lnpordviolN  \n",
       "0     5.913503  \n",
       "1     5.752573  \n",
       "2     5.966147  \n",
       "3     5.703783  \n",
       "4     5.799093  \n",
       "\n",
       "[5 rows x 65 columns]"
      ]
     },
     "execution_count": 2,
     "metadata": {},
     "output_type": "execute_result"
    }
   ],
   "source": [
    "import numpy as np\n",
    "import matplotlib.pyplot as plt\n",
    "import pandas as pd\n",
    "import statsmodels.formula.api as sm\n",
    "\n",
    "#Importing the Data\n",
    "Data1 = pd.read_csv('Prostitutiondata.csv')\n",
    "\n",
    "#Counting the number of observations\n",
    "print('Data1 is composed of',Data1.shape[0],'rows and',Data1.shape[1],'columns in this DataFrame')\n",
    "\n",
    "#Printing the first 5 rows\n",
    "Data1.head()"
   ]
  },
  {
   "cell_type": "markdown",
   "metadata": {},
   "source": [
    "## Data\n",
    "\n",
    "The is taken from [Bisschop et al](https://www.aeaweb.org/articles?id=10.1257/pol.20150299). These authors look at how the rates of sexual crimes changed between 1994 and 2011. Over this time several Dutch cities closed and opened \"tipplezones\" (zones in which prostitution was legal). The data comes from [Statistics Netherlands](https://www.cbs.nl/en-gb) and criminal reports collected by the Dutch Prosecutor General (PG)."
   ]
  },
  {
   "cell_type": "markdown",
   "metadata": {},
   "source": [
    "### Exploring the Data\n"
   ]
  },
  {
   "cell_type": "code",
   "execution_count": 3,
   "metadata": {
    "scrolled": true
   },
   "outputs": [
    {
     "name": "stdout",
     "output_type": "stream",
     "text": [
      "We now have data is composed of 450 rows and 5 columns\n"
     ]
    },
    {
     "data": {
      "text/html": [
       "<div>\n",
       "<style scoped>\n",
       "    .dataframe tbody tr th:only-of-type {\n",
       "        vertical-align: middle;\n",
       "    }\n",
       "\n",
       "    .dataframe tbody tr th {\n",
       "        vertical-align: top;\n",
       "    }\n",
       "\n",
       "    .dataframe thead th {\n",
       "        text-align: right;\n",
       "    }\n",
       "</style>\n",
       "<table border=\"1\" class=\"dataframe\">\n",
       "  <thead>\n",
       "    <tr style=\"text-align: right;\">\n",
       "      <th></th>\n",
       "      <th>city</th>\n",
       "      <th>city1</th>\n",
       "      <th>year</th>\n",
       "      <th>lnrapeN</th>\n",
       "      <th>opening</th>\n",
       "    </tr>\n",
       "  </thead>\n",
       "  <tbody>\n",
       "    <tr>\n",
       "      <th>0</th>\n",
       "      <td>Amsterdam</td>\n",
       "      <td>1</td>\n",
       "      <td>1994</td>\n",
       "      <td>4.828314</td>\n",
       "      <td>0</td>\n",
       "    </tr>\n",
       "    <tr>\n",
       "      <th>1</th>\n",
       "      <td>Amsterdam</td>\n",
       "      <td>1</td>\n",
       "      <td>1995</td>\n",
       "      <td>4.499810</td>\n",
       "      <td>0</td>\n",
       "    </tr>\n",
       "    <tr>\n",
       "      <th>2</th>\n",
       "      <td>Amsterdam</td>\n",
       "      <td>1</td>\n",
       "      <td>1996</td>\n",
       "      <td>4.442651</td>\n",
       "      <td>1</td>\n",
       "    </tr>\n",
       "    <tr>\n",
       "      <th>3</th>\n",
       "      <td>Amsterdam</td>\n",
       "      <td>1</td>\n",
       "      <td>1997</td>\n",
       "      <td>4.007333</td>\n",
       "      <td>1</td>\n",
       "    </tr>\n",
       "    <tr>\n",
       "      <th>4</th>\n",
       "      <td>Amsterdam</td>\n",
       "      <td>1</td>\n",
       "      <td>1998</td>\n",
       "      <td>4.248495</td>\n",
       "      <td>1</td>\n",
       "    </tr>\n",
       "  </tbody>\n",
       "</table>\n",
       "</div>"
      ],
      "text/plain": [
       "        city  city1  year   lnrapeN  opening\n",
       "0  Amsterdam      1  1994  4.828314        0\n",
       "1  Amsterdam      1  1995  4.499810        0\n",
       "2  Amsterdam      1  1996  4.442651        1\n",
       "3  Amsterdam      1  1997  4.007333        1\n",
       "4  Amsterdam      1  1998  4.248495        1"
      ]
     },
     "execution_count": 3,
     "metadata": {},
     "output_type": "execute_result"
    }
   ],
   "source": [
    "#Keeping the relevant columns\n",
    "rapedata = Data1[['city','city1','year','lnrapeN','opening']]\n",
    "\n",
    "# Dropping missing values \n",
    "rapedata = rapedata.dropna()\n",
    "\n",
    "#Counting the number of observations\n",
    "print('We now have data is composed of',rapedata.shape[0],'rows and',rapedata.shape[1],'columns')\n",
    "\n",
    "\n",
    "#Viewing the dataframe\n",
    "rapedata.head()\n"
   ]
  },
  {
   "cell_type": "markdown",
   "metadata": {},
   "source": [
    "Now that we have a relatively clean data set. The following section will explore the presemt some visual illustrations of the data and present the summary statistics. For this section, we are specifically looking at the number of rapes that occured in the three biggest cities of The Netherlands over the years 1994 t0 2011. "
   ]
  },
  {
   "cell_type": "code",
   "execution_count": 4,
   "metadata": {},
   "outputs": [
    {
     "data": {
      "text/html": [
       "<div>\n",
       "<style scoped>\n",
       "    .dataframe tbody tr th:only-of-type {\n",
       "        vertical-align: middle;\n",
       "    }\n",
       "\n",
       "    .dataframe tbody tr th {\n",
       "        vertical-align: top;\n",
       "    }\n",
       "\n",
       "    .dataframe thead th {\n",
       "        text-align: right;\n",
       "    }\n",
       "</style>\n",
       "<table border=\"1\" class=\"dataframe\">\n",
       "  <thead>\n",
       "    <tr style=\"text-align: right;\">\n",
       "      <th></th>\n",
       "      <th>city</th>\n",
       "      <th>city1</th>\n",
       "      <th>lnrapeN</th>\n",
       "      <th>opening</th>\n",
       "    </tr>\n",
       "    <tr>\n",
       "      <th>year</th>\n",
       "      <th></th>\n",
       "      <th></th>\n",
       "      <th></th>\n",
       "      <th></th>\n",
       "    </tr>\n",
       "  </thead>\n",
       "  <tbody>\n",
       "    <tr>\n",
       "      <th>1994</th>\n",
       "      <td>Amsterdam</td>\n",
       "      <td>1</td>\n",
       "      <td>4.828314</td>\n",
       "      <td>0</td>\n",
       "    </tr>\n",
       "    <tr>\n",
       "      <th>1994</th>\n",
       "      <td>Rotterdam</td>\n",
       "      <td>2</td>\n",
       "      <td>4.007333</td>\n",
       "      <td>0</td>\n",
       "    </tr>\n",
       "    <tr>\n",
       "      <th>1994</th>\n",
       "      <td>Den Haag</td>\n",
       "      <td>3</td>\n",
       "      <td>3.806663</td>\n",
       "      <td>1</td>\n",
       "    </tr>\n",
       "    <tr>\n",
       "      <th>1995</th>\n",
       "      <td>Amsterdam</td>\n",
       "      <td>1</td>\n",
       "      <td>4.499810</td>\n",
       "      <td>0</td>\n",
       "    </tr>\n",
       "    <tr>\n",
       "      <th>1995</th>\n",
       "      <td>Rotterdam</td>\n",
       "      <td>2</td>\n",
       "      <td>4.553877</td>\n",
       "      <td>1</td>\n",
       "    </tr>\n",
       "  </tbody>\n",
       "</table>\n",
       "</div>"
      ],
      "text/plain": [
       "           city  city1   lnrapeN  opening\n",
       "year                                     \n",
       "1994  Amsterdam      1  4.828314        0\n",
       "1994  Rotterdam      2  4.007333        0\n",
       "1994   Den Haag      3  3.806663        1\n",
       "1995  Amsterdam      1  4.499810        0\n",
       "1995  Rotterdam      2  4.553877        1"
      ]
     },
     "execution_count": 4,
     "metadata": {},
     "output_type": "execute_result"
    }
   ],
   "source": [
    "#Selecting the cities which want to be reported\n",
    "rapedataAMS = rapedata.loc[rapedata['city']=='Amsterdam']\n",
    "rapedataROT = rapedata.loc[rapedata['city']=='Rotterdam']\n",
    "rapedataDHG = rapedata.loc[rapedata['city']=='Den Haag']\n",
    "\n",
    "rapedata = pd.concat([rapedataAMS, rapedataROT, rapedataDHG], ignore_index = True)\n",
    "\n",
    "#Setting the Index\n",
    "rapedata.set_index('year', inplace = True)\n",
    "\n",
    "#Order by year\n",
    "rapedata.sort_values(['year'], inplace = True)\n",
    "\n",
    "rapedata.head()"
   ]
  },
  {
   "cell_type": "code",
   "execution_count": 5,
   "metadata": {},
   "outputs": [
    {
     "data": {
      "text/html": [
       "<div>\n",
       "<style scoped>\n",
       "    .dataframe tbody tr th:only-of-type {\n",
       "        vertical-align: middle;\n",
       "    }\n",
       "\n",
       "    .dataframe tbody tr th {\n",
       "        vertical-align: top;\n",
       "    }\n",
       "\n",
       "    .dataframe thead th {\n",
       "        text-align: right;\n",
       "    }\n",
       "</style>\n",
       "<table border=\"1\" class=\"dataframe\">\n",
       "  <thead>\n",
       "    <tr style=\"text-align: right;\">\n",
       "      <th></th>\n",
       "      <th>Amsterdam</th>\n",
       "      <th>Rotterdam</th>\n",
       "      <th>Den Haag</th>\n",
       "    </tr>\n",
       "    <tr>\n",
       "      <th>year</th>\n",
       "      <th></th>\n",
       "      <th></th>\n",
       "      <th></th>\n",
       "    </tr>\n",
       "  </thead>\n",
       "  <tbody>\n",
       "    <tr>\n",
       "      <th>1994</th>\n",
       "      <td>4.828314</td>\n",
       "      <td>4.007333</td>\n",
       "      <td>3.806663</td>\n",
       "    </tr>\n",
       "    <tr>\n",
       "      <th>1995</th>\n",
       "      <td>4.499810</td>\n",
       "      <td>4.553877</td>\n",
       "      <td>3.912023</td>\n",
       "    </tr>\n",
       "    <tr>\n",
       "      <th>1996</th>\n",
       "      <td>4.442651</td>\n",
       "      <td>4.499810</td>\n",
       "      <td>3.912023</td>\n",
       "    </tr>\n",
       "    <tr>\n",
       "      <th>1997</th>\n",
       "      <td>4.007333</td>\n",
       "      <td>3.912023</td>\n",
       "      <td>3.912023</td>\n",
       "    </tr>\n",
       "    <tr>\n",
       "      <th>1998</th>\n",
       "      <td>4.317488</td>\n",
       "      <td>4.007333</td>\n",
       "      <td>4.248495</td>\n",
       "    </tr>\n",
       "  </tbody>\n",
       "</table>\n",
       "</div>"
      ],
      "text/plain": [
       "      Amsterdam  Rotterdam  Den Haag\n",
       "year                                \n",
       "1994   4.828314   4.007333  3.806663\n",
       "1995   4.499810   4.553877  3.912023\n",
       "1996   4.442651   4.499810  3.912023\n",
       "1997   4.007333   3.912023  3.912023\n",
       "1998   4.317488   4.007333  4.248495"
      ]
     },
     "execution_count": 5,
     "metadata": {},
     "output_type": "execute_result"
    }
   ],
   "source": [
    "#Creating new columns to create the necessary graphs\n",
    "rapedata['Amsterdam'] = rapedata.lnrapeN[0::3]\n",
    "rapedata['Rotterdam'] = rapedata.lnrapeN[1::3]\n",
    "rapedata['Den Haag'] = rapedata.lnrapeN[2::3]\n",
    "\n",
    "#Creating a new dataframe (Rapedata1) with the relevant structure\n",
    "rapedata1 = rapedata[['Amsterdam', 'Rotterdam', 'Den Haag']]\n",
    "\n",
    "#dropping duplicates\n",
    "rapedata1 = rapedata1.loc[::3,:]\n",
    "\n",
    "#Checking if the data looks how we want it to look\n",
    "rapedata1.head()"
   ]
  },
  {
   "cell_type": "markdown",
   "metadata": {},
   "source": [
    "Here, we are specifically looking at how the number of rapes in these three cities has changed over time. In order to get create a neat graph, the cities have been programmed as columns, the indeces are now the years, and the values are logged number of rapes in that year. "
   ]
  },
  {
   "cell_type": "code",
   "execution_count": 6,
   "metadata": {},
   "outputs": [
    {
     "data": {
      "image/png": "[encoded data removed]",
      "text/plain": [
       "<matplotlib.figure.Figure at 0x7fed47b2c0f0>"
      ]
     },
     "metadata": {},
     "output_type": "display_data"
    }
   ],
   "source": [
    "COLORS = ['orange','green','blue']\n",
    "\n",
    "rapedata1.plot.line(title = 'Number of Rapes', subplots = True, color=COLORS)\n",
    "plt.xlabel('year')\n",
    "plt.ylabel('logged No. of Rapes')\n",
    "plt.show()\n"
   ]
  },
  {
   "cell_type": "code",
   "execution_count": 7,
   "metadata": {},
   "outputs": [
    {
     "data": {
      "text/html": [
       "<div>\n",
       "<style scoped>\n",
       "    .dataframe tbody tr th:only-of-type {\n",
       "        vertical-align: middle;\n",
       "    }\n",
       "\n",
       "    .dataframe tbody tr th {\n",
       "        vertical-align: top;\n",
       "    }\n",
       "\n",
       "    .dataframe thead th {\n",
       "        text-align: right;\n",
       "    }\n",
       "</style>\n",
       "<table border=\"1\" class=\"dataframe\">\n",
       "  <thead>\n",
       "    <tr style=\"text-align: right;\">\n",
       "      <th></th>\n",
       "      <th>Amsterdam</th>\n",
       "      <th>Rotterdam</th>\n",
       "      <th>Den Haag</th>\n",
       "    </tr>\n",
       "  </thead>\n",
       "  <tbody>\n",
       "    <tr>\n",
       "      <th>count</th>\n",
       "      <td>18.000000</td>\n",
       "      <td>18.000000</td>\n",
       "      <td>18.000000</td>\n",
       "    </tr>\n",
       "    <tr>\n",
       "      <th>mean</th>\n",
       "      <td>4.035835</td>\n",
       "      <td>4.120379</td>\n",
       "      <td>3.984678</td>\n",
       "    </tr>\n",
       "    <tr>\n",
       "      <th>std</th>\n",
       "      <td>0.474065</td>\n",
       "      <td>0.316485</td>\n",
       "      <td>0.334947</td>\n",
       "    </tr>\n",
       "    <tr>\n",
       "      <th>min</th>\n",
       "      <td>3.218876</td>\n",
       "      <td>3.401197</td>\n",
       "      <td>2.995732</td>\n",
       "    </tr>\n",
       "    <tr>\n",
       "      <th>25%</th>\n",
       "      <td>3.688879</td>\n",
       "      <td>3.912023</td>\n",
       "      <td>3.806663</td>\n",
       "    </tr>\n",
       "    <tr>\n",
       "      <th>50%</th>\n",
       "      <td>4.007333</td>\n",
       "      <td>4.090860</td>\n",
       "      <td>3.912023</td>\n",
       "    </tr>\n",
       "    <tr>\n",
       "      <th>75%</th>\n",
       "      <td>4.365892</td>\n",
       "      <td>4.365892</td>\n",
       "      <td>4.248495</td>\n",
       "    </tr>\n",
       "    <tr>\n",
       "      <th>max</th>\n",
       "      <td>4.828314</td>\n",
       "      <td>4.605170</td>\n",
       "      <td>4.553877</td>\n",
       "    </tr>\n",
       "  </tbody>\n",
       "</table>\n",
       "</div>"
      ],
      "text/plain": [
       "       Amsterdam  Rotterdam   Den Haag\n",
       "count  18.000000  18.000000  18.000000\n",
       "mean    4.035835   4.120379   3.984678\n",
       "std     0.474065   0.316485   0.334947\n",
       "min     3.218876   3.401197   2.995732\n",
       "25%     3.688879   3.912023   3.806663\n",
       "50%     4.007333   4.090860   3.912023\n",
       "75%     4.365892   4.365892   4.248495\n",
       "max     4.828314   4.605170   4.553877"
      ]
     },
     "execution_count": 7,
     "metadata": {},
     "output_type": "execute_result"
    }
   ],
   "source": [
    "rapedata1.describe()"
   ]
  },
  {
   "cell_type": "markdown",
   "metadata": {},
   "source": [
    "As can be seen in the figures and the summary statistics, the number of people raped in these three cities is not consistant but has varied over time. Amstersam appears to have had the highest number of rapes in a year but Rotterdam has the highest average number of rapes over the years. Den Haag has the least number of rapes. \n",
    "\n",
    "The variation in the numbers is interesting given that over these years 'tippelzones', or legal prostition zones were opened and closed. The next section will visually explore how the date at which a tippelzone opened affected the data in Amsterdam."
   ]
  },
  {
   "cell_type": "markdown",
   "metadata": {},
   "source": [
    "### Creating a Graph of number of Rapes in Amsterdam with Opening of Tippelzones"
   ]
  },
  {
   "cell_type": "code",
   "execution_count": 8,
   "metadata": {},
   "outputs": [
    {
     "data": {
      "text/html": [
       "<div>\n",
       "<style scoped>\n",
       "    .dataframe tbody tr th:only-of-type {\n",
       "        vertical-align: middle;\n",
       "    }\n",
       "\n",
       "    .dataframe tbody tr th {\n",
       "        vertical-align: top;\n",
       "    }\n",
       "\n",
       "    .dataframe thead th {\n",
       "        text-align: right;\n",
       "    }\n",
       "</style>\n",
       "<table border=\"1\" class=\"dataframe\">\n",
       "  <thead>\n",
       "    <tr style=\"text-align: right;\">\n",
       "      <th></th>\n",
       "      <th>Amsterdam</th>\n",
       "      <th>opening</th>\n",
       "    </tr>\n",
       "    <tr>\n",
       "      <th>year</th>\n",
       "      <th></th>\n",
       "      <th></th>\n",
       "    </tr>\n",
       "  </thead>\n",
       "  <tbody>\n",
       "    <tr>\n",
       "      <th>1994</th>\n",
       "      <td>4.828314</td>\n",
       "      <td>0</td>\n",
       "    </tr>\n",
       "    <tr>\n",
       "      <th>1995</th>\n",
       "      <td>4.499810</td>\n",
       "      <td>0</td>\n",
       "    </tr>\n",
       "    <tr>\n",
       "      <th>1996</th>\n",
       "      <td>4.442651</td>\n",
       "      <td>1</td>\n",
       "    </tr>\n",
       "    <tr>\n",
       "      <th>1997</th>\n",
       "      <td>4.007333</td>\n",
       "      <td>1</td>\n",
       "    </tr>\n",
       "    <tr>\n",
       "      <th>1998</th>\n",
       "      <td>4.317488</td>\n",
       "      <td>1</td>\n",
       "    </tr>\n",
       "  </tbody>\n",
       "</table>\n",
       "</div>"
      ],
      "text/plain": [
       "      Amsterdam  opening\n",
       "year                    \n",
       "1994   4.828314        0\n",
       "1995   4.499810        0\n",
       "1996   4.442651        1\n",
       "1997   4.007333        1\n",
       "1998   4.317488        1"
      ]
     },
     "execution_count": 8,
     "metadata": {},
     "output_type": "execute_result"
    }
   ],
   "source": [
    "#Calling back the Dataframe that contains the variable opening \n",
    "rapedata.head()\n",
    "\n",
    "#Selecting the Amsterdam rows\n",
    "rapedata2 = rapedata[['Amsterdam', 'opening']]\n",
    "\n",
    "#dropping duplicates\n",
    "rapedata2 = rapedata2.loc[::3,:]\n",
    "\n",
    "rapedata2.head()\n",
    "\n"
   ]
  },
  {
   "cell_type": "code",
   "execution_count": 9,
   "metadata": {},
   "outputs": [
    {
     "data": {
      "image/png": "[encoded data removed]",
      "text/plain": [
       "<matplotlib.figure.Figure at 0x7fed0e764c50>"
      ]
     },
     "metadata": {},
     "output_type": "display_data"
    }
   ],
   "source": [
    "COLORS = ['orange','green']\n",
    "\n",
    "rapedata2.plot.line(title = 'Number of Rapes', subplots = False, color=COLORS)\n",
    "plt.xlabel('year')\n",
    "plt.ylabel('logged No. of Rapes')\n",
    "plt.show()"
   ]
  },
  {
   "cell_type": "markdown",
   "metadata": {},
   "source": [
    "As one can see in the graph, it is not considerably clear that the opening of the tippelzone in Amsterdam reduced the number of rapes. However, this is only a visual representation and thus there may be confounding variables. In order to estimate an unbiased estimation, a difference-in-difference estimation will be used. "
   ]
  },
  {
   "cell_type": "markdown",
   "metadata": {},
   "source": [
    "## A diff-in-diff estimation of the effect of tippelzones"
   ]
  },
  {
   "cell_type": "markdown",
   "metadata": {},
   "source": [
    "This section introduces the ecoometric analysis. We will run a diff-in-diff estimation to get a estimation of the effect that Tippelzones had on the numbers of sexual crimes committed in The Netherlands."
   ]
  },
  {
   "cell_type": "markdown",
   "metadata": {},
   "source": [
    "<a id='Method'><a/>"
   ]
  },
  {
   "cell_type": "markdown",
   "metadata": {},
   "source": [
    "### Method "
   ]
  },
  {
   "cell_type": "markdown",
   "metadata": {},
   "source": [
    "The following is the diff-in-diff model that will be run to assess the affect of the tippelzones"
   ]
  },
  {
   "cell_type": "markdown",
   "metadata": {},
   "source": [
    "$$ Y_{i,t} = \\alpha + X_{1}Opening_{i,t} + X_{2}CV_{i,t} + X_{3}Year_{t} + X_{4}City_{i} + \\epsilon_{i,t}$$\n",
    "       "
   ]
  },
  {
   "cell_type": "markdown",
   "metadata": {},
   "source": [
    "Where:\n",
    "   - Opening is a dummy variable denoting where a tippelzone is open in that year\n",
    "   - CV is a list of covariates \n",
    "       - Male Population\n",
    "       - Population density\n",
    "       - Household Income (1000 Euros)\n",
    "       - Percentage of individuals with higher education\n",
    "       - Percentage of Non-dutch inhabitants\n",
    "       - Percentage of individuals who recieved welfare benefits\n",
    "       - The mayor's political party\n",
    "   - Year indicates yearly-time fixed effects\n",
    "   - City represents city-level fixed effects"
   ]
  },
  {
   "cell_type": "code",
   "execution_count": 15,
   "metadata": {},
   "outputs": [],
   "source": [
    "#Creating a list of convariates for the Regression\n",
    "\n",
    "CV_it = ['logpopmale1565', 'logpopdens' , 'inkhh' , 'educhpc' , 'nondutchpc' , 'insurWWAO', 'mayorCDA' , 'mayorCU' , 'mayorD66', 'mayorVVD']"
   ]
  },
  {
   "cell_type": "markdown",
   "metadata": {},
   "source": [
    "So, in order to estimate the effect of X1, we need to run an OLS fixed effect regression. The data looks as follows:"
   ]
  },
  {
   "cell_type": "code",
   "execution_count": 16,
   "metadata": {},
   "outputs": [
    {
     "name": "stdout",
     "output_type": "stream",
     "text": [
      "                            OLS Regression Results                            \n",
      "==============================================================================\n",
      "Dep. Variable:                lnrapeN   R-squared:                       0.794\n",
      "Model:                            OLS   Adj. R-squared:                  0.767\n",
      "Method:                 Least Squares   F-statistic:                     29.36\n",
      "Date:                Mon, 14 Jan 2019   Prob (F-statistic):          2.45e-106\n",
      "Time:                        17:21:59   Log-Likelihood:                -249.56\n",
      "No. Observations:                 450   AIC:                             605.1\n",
      "Df Residuals:                     397   BIC:                             822.9\n",
      "Df Model:                          52                                         \n",
      "Covariance Type:            nonrobust                                         \n",
      "===================================================================================\n",
      "                      coef    std err          t      P>|t|      [0.025      0.975]\n",
      "-----------------------------------------------------------------------------------\n",
      "Intercept          12.1175      7.302      1.659      0.098      -2.238      26.473\n",
      "C(year)[T.1995]     0.1544      0.128      1.210      0.227      -0.097       0.405\n",
      "C(year)[T.1996]     0.1411      0.129      1.091      0.276      -0.113       0.395\n",
      "C(year)[T.1997]    -0.0298      0.132     -0.225      0.822      -0.290       0.230\n",
      "C(year)[T.1998]    -0.1278      0.136     -0.942      0.347      -0.395       0.139\n",
      "C(year)[T.1999]    -0.0446      0.142     -0.314      0.754      -0.324       0.235\n",
      "C(year)[T.2000]    -0.0220      0.146     -0.151      0.880      -0.309       0.265\n",
      "C(year)[T.2001]     0.0132      0.150      0.088      0.930      -0.282       0.308\n",
      "C(year)[T.2002]    -0.1287      0.150     -0.858      0.392      -0.424       0.166\n",
      "C(year)[T.2003]    -0.1224      0.153     -0.802      0.423      -0.422       0.178\n",
      "C(year)[T.2004]     0.1036      0.160      0.648      0.517      -0.211       0.418\n",
      "C(year)[T.2005]    -0.0498      0.168     -0.296      0.767      -0.380       0.281\n",
      "C(year)[T.2006]     0.3844      0.514      0.748      0.455      -0.626       1.395\n",
      "C(year)[T.2007]    -0.0011      0.298     -0.004      0.997      -0.586       0.584\n",
      "C(year)[T.2008]    -0.4572      0.217     -2.108      0.036      -0.884      -0.031\n",
      "C(year)[T.2009]    -0.7588      0.309     -2.455      0.015      -1.366      -0.151\n",
      "C(year)[T.2010]    -0.9546      0.357     -2.676      0.008      -1.656      -0.253\n",
      "C(year)[T.2011]    -0.8315      0.354     -2.352      0.019      -1.527      -0.136\n",
      "C(city1)[T.2]       0.7993      0.497      1.609      0.108      -0.177       1.776\n",
      "C(city1)[T.3]      -0.1616      0.725     -0.223      0.824      -1.586       1.263\n",
      "C(city1)[T.4]      -1.9885      0.906     -2.194      0.029      -3.770      -0.207\n",
      "C(city1)[T.5]      -3.5140      1.237     -2.842      0.005      -5.945      -1.083\n",
      "C(city1)[T.6]      -2.1426      0.930     -2.303      0.022      -3.972      -0.314\n",
      "C(city1)[T.7]      -3.1586      1.209     -2.613      0.009      -5.535      -0.782\n",
      "C(city1)[T.8]      -4.1817      1.213     -3.447      0.001      -6.567      -1.797\n",
      "C(city1)[T.9]      -3.2355      1.120     -2.889      0.004      -5.437      -1.034\n",
      "C(city1)[T.10]     -1.9286      0.856     -2.253      0.025      -3.612      -0.245\n",
      "C(city1)[T.11]     -2.2194      0.947     -2.344      0.020      -4.081      -0.358\n",
      "C(city1)[T.12]     -1.9427      0.969     -2.004      0.046      -3.848      -0.037\n",
      "C(city1)[T.13]     -2.8773      1.387     -2.074      0.039      -5.605      -0.150\n",
      "C(city1)[T.14]     -3.0263      1.323     -2.287      0.023      -5.628      -0.424\n",
      "C(city1)[T.15]     -3.6132      1.284     -2.814      0.005      -6.138      -1.089\n",
      "C(city1)[T.16]     -3.8893      1.238     -3.142      0.002      -6.323      -1.456\n",
      "C(city1)[T.17]     -3.4418      1.235     -2.787      0.006      -5.869      -1.014\n",
      "C(city1)[T.18]     -3.1870      1.147     -2.778      0.006      -5.442      -0.931\n",
      "C(city1)[T.19]     -3.5324      1.524     -2.317      0.021      -6.529      -0.536\n",
      "C(city1)[T.20]     -3.3981      1.094     -3.105      0.002      -5.550      -1.246\n",
      "C(city1)[T.21]     -2.4745      1.031     -2.400      0.017      -4.502      -0.447\n",
      "C(city1)[T.22]     -3.1026      1.642     -1.890      0.060      -6.330       0.125\n",
      "C(city1)[T.23]     -2.2447      0.876     -2.561      0.011      -3.968      -0.522\n",
      "C(city1)[T.24]     -3.9541      1.179     -3.353      0.001      -6.273      -1.636\n",
      "C(city1)[T.25]     -3.9600      1.154     -3.432      0.001      -6.228      -1.692\n",
      "Data1[CV_it][0]    -0.9039      0.616     -1.467      0.143      -2.115       0.307\n",
      "Data1[CV_it][1]    -0.3130      0.662     -0.473      0.637      -1.614       0.988\n",
      "Data1[CV_it][2]     0.1389      0.184      0.753      0.452      -0.224       0.501\n",
      "Data1[CV_it][3]     3.1287      1.395      2.242      0.026       0.385       5.872\n",
      "Data1[CV_it][4]    -0.9678      3.557     -0.272      0.786      -7.960       6.025\n",
      "Data1[CV_it][5]  1.587e-05   1.66e-05      0.957      0.339   -1.67e-05    4.85e-05\n",
      "Data1[CV_it][6]    -0.0846      0.129     -0.655      0.513      -0.339       0.169\n",
      "Data1[CV_it][7]     0.3354      0.252      1.332      0.184      -0.160       0.831\n",
      "Data1[CV_it][8]     0.0540      0.174      0.311      0.756      -0.288       0.396\n",
      "Data1[CV_it][9]     0.0435      0.082      0.532      0.595      -0.117       0.204\n",
      "opening            -0.0418      0.094     -0.443      0.658      -0.228       0.144\n",
      "==============================================================================\n",
      "Omnibus:                        8.686   Durbin-Watson:                   1.867\n",
      "Prob(Omnibus):                  0.013   Jarque-Bera (JB):                8.604\n",
      "Skew:                          -0.322   Prob(JB):                       0.0135\n",
      "Kurtosis:                       3.210   Cond. No.                     6.96e+06\n",
      "==============================================================================\n",
      "\n",
      "Warnings:\n",
      "[1] Standard Errors assume that the covariance matrix of the errors is correctly specified.\n",
      "[2] The condition number is large, 6.96e+06. This might indicate that there are\n",
      "strong multicollinearity or other numerical problems.\n"
     ]
    }
   ],
   "source": [
    "#An OLS fixed effects (City and time) regression, with the number of rapes (logged) as the dependent variable, opening as the treatment variable.\n",
    "\n",
    "\n",
    "FE_olsRape = sm.ols(formula = 'lnrapeN ~ Data1[CV_it] + C(year) + C(city1) + opening', data= Data1).fit()\n",
    "\n",
    "print(FE_olsRape.summary())\n"
   ]
  },
  {
   "cell_type": "markdown",
   "metadata": {},
   "source": [
    "So, as we can see from the OLS regression, the tippelzones decreased the incidences of rape by approximiately 4.2%. This is the same result [Bisschop et al](https://www.aeaweb.org/articles?id=10.1257/pol.20150299) get in their estimation. We can infer that this is a causal effect through the research design."
   ]
  },
  {
   "cell_type": "markdown",
   "metadata": {},
   "source": [
    "We can also extend our analysis to the effects of tippelzones on not only rape by sexual assualt. "
   ]
  },
  {
   "cell_type": "markdown",
   "metadata": {},
   "source": [
    "### A Diff-in-diff estimating the effect of the tippelzones on sexual crimes in general"
   ]
  },
  {
   "cell_type": "code",
   "execution_count": 17,
   "metadata": {},
   "outputs": [
    {
     "name": "stdout",
     "output_type": "stream",
     "text": [
      "                            OLS Regression Results                            \n",
      "==============================================================================\n",
      "Dep. Variable:          lnsexassaultN   R-squared:                       0.727\n",
      "Model:                            OLS   Adj. R-squared:                  0.692\n",
      "Method:                 Least Squares   F-statistic:                     20.38\n",
      "Date:                Mon, 14 Jan 2019   Prob (F-statistic):           2.74e-83\n",
      "Time:                        17:22:00   Log-Likelihood:                -284.93\n",
      "No. Observations:                 450   AIC:                             675.9\n",
      "Df Residuals:                     397   BIC:                             893.7\n",
      "Df Model:                          52                                         \n",
      "Covariance Type:            nonrobust                                         \n",
      "===================================================================================\n",
      "                      coef    std err          t      P>|t|      [0.025      0.975]\n",
      "-----------------------------------------------------------------------------------\n",
      "Intercept          10.3912      7.899      1.315      0.189      -5.138      25.921\n",
      "C(year)[T.1995]     0.0424      0.138      0.307      0.759      -0.229       0.314\n",
      "C(year)[T.1996]     0.1314      0.140      0.939      0.348      -0.144       0.406\n",
      "C(year)[T.1997]     0.0854      0.143      0.596      0.551      -0.196       0.367\n",
      "C(year)[T.1998]     0.0638      0.147      0.435      0.664      -0.225       0.352\n",
      "C(year)[T.1999]     0.0955      0.154      0.621      0.535      -0.207       0.398\n",
      "C(year)[T.2000]     0.0753      0.158      0.476      0.634      -0.235       0.386\n",
      "C(year)[T.2001]     0.3589      0.162      2.210      0.028       0.040       0.678\n",
      "C(year)[T.2002]     0.2469      0.162      1.521      0.129      -0.072       0.566\n",
      "C(year)[T.2003]     0.0673      0.165      0.408      0.684      -0.257       0.392\n",
      "C(year)[T.2004]     0.2216      0.173      1.282      0.201      -0.118       0.562\n",
      "C(year)[T.2005]     0.3095      0.182      1.702      0.089      -0.048       0.667\n",
      "C(year)[T.2006]    -0.0514      0.556     -0.092      0.926      -1.145       1.042\n",
      "C(year)[T.2007]     0.0087      0.322      0.027      0.979      -0.625       0.642\n",
      "C(year)[T.2008]    -0.1331      0.235     -0.567      0.571      -0.594       0.328\n",
      "C(year)[T.2009]    -0.2133      0.334     -0.638      0.524      -0.871       0.444\n",
      "C(year)[T.2010]    -0.2134      0.386     -0.553      0.581      -0.972       0.545\n",
      "C(year)[T.2011]    -0.4867      0.382     -1.272      0.204      -1.239       0.265\n",
      "C(city1)[T.2]       0.1160      0.537      0.216      0.829      -0.940       1.172\n",
      "C(city1)[T.3]      -1.3397      0.784     -1.709      0.088      -2.881       0.202\n",
      "C(city1)[T.4]      -2.2918      0.980     -2.338      0.020      -4.219      -0.365\n",
      "C(city1)[T.5]      -3.9526      1.338     -2.955      0.003      -6.582      -1.323\n",
      "C(city1)[T.6]      -3.0196      1.006     -3.000      0.003      -4.998      -1.041\n",
      "C(city1)[T.7]      -3.3061      1.308     -2.528      0.012      -5.877      -0.735\n",
      "C(city1)[T.8]      -3.8728      1.312     -2.951      0.003      -6.453      -1.293\n",
      "C(city1)[T.9]      -3.7530      1.211     -3.098      0.002      -6.135      -1.371\n",
      "C(city1)[T.10]     -2.7886      0.926     -3.011      0.003      -4.609      -0.968\n",
      "C(city1)[T.11]     -2.6173      1.024     -2.556      0.011      -4.631      -0.604\n",
      "C(city1)[T.12]     -3.7077      1.049     -3.536      0.000      -5.769      -1.646\n",
      "C(city1)[T.13]     -4.5251      1.501     -3.015      0.003      -7.476      -1.574\n",
      "C(city1)[T.14]     -4.2816      1.432     -2.991      0.003      -7.096      -1.467\n",
      "C(city1)[T.15]     -4.2340      1.389     -3.048      0.002      -6.965      -1.503\n",
      "C(city1)[T.16]     -4.4392      1.339     -3.316      0.001      -7.071      -1.807\n",
      "C(city1)[T.17]     -3.3964      1.336     -2.543      0.011      -6.022      -0.770\n",
      "C(city1)[T.18]     -4.2153      1.241     -3.396      0.001      -6.655      -1.775\n",
      "C(city1)[T.19]     -4.9399      1.649     -2.996      0.003      -8.182      -1.698\n",
      "C(city1)[T.20]     -4.3743      1.184     -3.695      0.000      -6.702      -2.047\n",
      "C(city1)[T.21]     -3.9017      1.115     -3.498      0.001      -6.095      -1.709\n",
      "C(city1)[T.22]     -4.8560      1.776     -2.734      0.007      -8.348      -1.364\n",
      "C(city1)[T.23]     -2.7481      0.948     -2.899      0.004      -4.612      -0.884\n",
      "C(city1)[T.24]     -4.2442      1.276     -3.327      0.001      -6.752      -1.736\n",
      "C(city1)[T.25]     -4.0557      1.248     -3.249      0.001      -6.510      -1.602\n",
      "Data1[CV_it][0]    -0.9399      0.666     -1.410      0.159      -2.250       0.370\n",
      "Data1[CV_it][1]     0.6539      0.716      0.913      0.362      -0.754       2.062\n",
      "Data1[CV_it][2]    -0.0037      0.199     -0.019      0.985      -0.396       0.388\n",
      "Data1[CV_it][3]     3.0036      1.510      1.990      0.047       0.036       5.971\n",
      "Data1[CV_it][4]     1.2855      3.848      0.334      0.738      -6.279       8.850\n",
      "Data1[CV_it][5] -2.101e-05   1.79e-05     -1.172      0.242   -5.63e-05    1.42e-05\n",
      "Data1[CV_it][6]    -0.1097      0.140     -0.785      0.433      -0.384       0.165\n",
      "Data1[CV_it][7]     0.0018      0.272      0.007      0.995      -0.534       0.537\n",
      "Data1[CV_it][8]     0.0585      0.188      0.311      0.756      -0.311       0.428\n",
      "Data1[CV_it][9]    -0.0537      0.089     -0.607      0.544      -0.228       0.120\n",
      "opening            -0.3015      0.102     -2.950      0.003      -0.502      -0.101\n",
      "==============================================================================\n",
      "Omnibus:                        8.303   Durbin-Watson:                   1.917\n",
      "Prob(Omnibus):                  0.016   Jarque-Bera (JB):                8.453\n",
      "Skew:                          -0.279   Prob(JB):                       0.0146\n",
      "Kurtosis:                       3.372   Cond. No.                     6.96e+06\n",
      "==============================================================================\n",
      "\n",
      "Warnings:\n",
      "[1] Standard Errors assume that the covariance matrix of the errors is correctly specified.\n",
      "[2] The condition number is large, 6.96e+06. This might indicate that there are\n",
      "strong multicollinearity or other numerical problems.\n"
     ]
    }
   ],
   "source": [
    "FE_olsAST = sm.ols(formula = 'lnsexassaultN ~ Data1[CV_it] + C(year) + C(city1) + opening', data= Data1).fit()\n",
    "\n",
    "print(FE_olsAST.summary())"
   ]
  },
  {
   "cell_type": "markdown",
   "metadata": {},
   "source": [
    "When we broaden the dependent variable to sexual crimes, we see that legalizing prostitution reduces sexual assaults and rapes by over 30%. This is same figure obtained by [Bisschop et al](https://www.aeaweb.org/articles?id=10.1257/pol.20150299) and is the main conclusion of their paper. "
   ]
  },
  {
   "cell_type": "markdown",
   "metadata": {},
   "source": [
    "<a id='Results'><a/>"
   ]
  },
  {
   "cell_type": "markdown",
   "metadata": {},
   "source": [
    "### Results"
   ]
  },
  {
   "cell_type": "markdown",
   "metadata": {},
   "source": [
    "Our results are along the same lines as that of [Bisschop et al](https://www.aeaweb.org/articles?id=10.1257/pol.20150299), which show that opening a tippelzone reduces sexual abuse and rape. These results are mainly driven by a 30–40 percent reduction in the first two years after opening the tippelzone.\n",
    "\n",
    "\n",
    "These authors have shown us that a counterfactual situation in a world a where prostitution is legal can be safer for women. Legalization brings prostitution into the government’s jurisdiction. It gives the government the power to regulate and protect sellers of sex as well as buyers. Furthermore, the evidence points out that whether or not regulation materializes, mere legalization deters would be sexual aggressors from perpetrating crimes. This makes intuitive sense. By bringing prostitutes under the law, they are seen as having basic rights that are not afforded to them if their profession is deemed illegal. "
   ]
  },
  {
   "cell_type": "markdown",
   "metadata": {},
   "source": [
    "<a id='Assumptions'><a/>"
   ]
  },
  {
   "cell_type": "markdown",
   "metadata": {},
   "source": [
    "### Assumptions"
   ]
  },
  {
   "cell_type": "markdown",
   "metadata": {},
   "source": [
    "We can infer that this is a causal effect through the research design, a differe-in-difference analysis. A diff-in-diff research design rests on the following assumptions:\n",
    "\n",
    "- The Timing of the Policy is exogenous \n",
    " - We have to assume that the policy instituted was independent of trends in sexual crimes otherwise this may introduce some bias in our estimates.\n",
    "- There were common trends before the treatment\n",
    " - In order to draw causal estimations, we assume that our control group is comparable to the treatment group.\n",
    "- There were not other policies that could bias the relationship\n",
    " - Other policies may also introduce some bias into our estimations because some of the effect we attribute to the Tippelzone policy may in fact be attributable to the another polciy. \n",
    "\n",
    "The salient assumption is that there was a common time tred before the implementation of the tippelzones. We can deduce that this is true through the graph of the three major cities and with evidence from [Bisschop et al](https://www.aeaweb.org/articles?id=10.1257/pol.20150299). They are also sure to point out that thetiming of the policy was exogenous and that no other significant policies relating to sexual crimes were instituted over the treatment period. "
   ]
  }
 ],
 "metadata": {
  "kernelspec": {
   "display_name": "Python 3",
   "language": "python",
   "name": "python3"
  },
  "language_info": {
   "codemirror_mode": {
    "name": "ipython",
    "version": 3
   },
   "file_extension": ".py",
   "mimetype": "text/x-python",
   "name": "python",
   "nbconvert_exporter": "python",
   "pygments_lexer": "ipython3",
   "version": "3.5.3"
  }
 },
 "nbformat": 4,
 "nbformat_minor": 2
}
